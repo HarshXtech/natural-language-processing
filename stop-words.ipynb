{
 "cells": [
  {
   "cell_type": "code",
   "execution_count": 46,
   "id": "4fcd8999-cce5-4648-bd42-b58fea71fd65",
   "metadata": {},
   "outputs": [],
   "source": [
    "corpus = \"\"\"\n",
    "Up until the 1980s, most natural language processing systems were based on complex sets of hand-written rules. \n",
    "Starting in the late 1980s, however, there was a revolution in natural language processing with the introduction of \n",
    "machine learning algorithms for language processing. This was due to both the steady increase in computational power\n",
    "(see Moore's law) and the gradual lessening of the dominance of Chomskyan theories of linguistics (e.g. transformational grammar),\n",
    "whose theoretical underpinnings discouraged the sort of corpus linguistics that underlies the machine-learning approach to language processing.[8]\n",
    "\"\"\""
   ]
  },
  {
   "cell_type": "code",
   "execution_count": 47,
   "id": "bac24b3a-449a-4f79-a3de-26fa6d9f966b",
   "metadata": {},
   "outputs": [],
   "source": [
    "from nltk.stem import PorterStemmer\n",
    "from nltk.corpus import stopwords"
   ]
  },
  {
   "cell_type": "code",
   "execution_count": 48,
   "id": "356534c4-76a1-42df-b1bd-358435c67f45",
   "metadata": {},
   "outputs": [],
   "source": [
    "# stopwords.words('english')"
   ]
  },
  {
   "cell_type": "code",
   "execution_count": 49,
   "id": "d494fddf-1aa8-4c76-afac-84ee58e40700",
   "metadata": {},
   "outputs": [],
   "source": [
    "stemmer = PorterStemmer()"
   ]
  },
  {
   "cell_type": "code",
   "execution_count": 50,
   "id": "b842c6b2-96b1-4c8e-9f4b-9257516bcba1",
   "metadata": {},
   "outputs": [],
   "source": [
    "import nltk"
   ]
  },
  {
   "cell_type": "code",
   "execution_count": 51,
   "id": "f509955a-26e3-43be-a7c7-80f309af012f",
   "metadata": {},
   "outputs": [],
   "source": [
    "documents = nltk.sent_tokenize(corpus)"
   ]
  },
  {
   "cell_type": "code",
   "execution_count": 19,
   "id": "65ba6a52-ba78-4125-ba50-d7a6c1ed22f4",
   "metadata": {},
   "outputs": [],
   "source": [
    "## Apply stopwords and filter, then apply stemming!"
   ]
  },
  {
   "cell_type": "code",
   "execution_count": 25,
   "id": "4c54f32d-8410-4c46-a475-71c294f8a8c9",
   "metadata": {},
   "outputs": [],
   "source": [
    "for i in range(len(documents)):\n",
    "    words = nltk.word_tokenize(documents[i])\n",
    "    words = [stemmer.stem(word) for word in words if word not in set(stopwords.words('english'))]\n",
    "    documents[i] = ' '.join(words)"
   ]
  },
  {
   "cell_type": "code",
   "execution_count": 26,
   "id": "34789986-c8b4-4437-8fc0-405b2ee0c875",
   "metadata": {},
   "outputs": [
    {
     "data": {
      "text/plain": [
       "['up 1980 , natur languag process system base complex set hand-written rule .',\n",
       " 'start late 1980 , howev , revolut natur languag process introduct machin learn algorithm languag process .',\n",
       " \"thi due steadi increas comput power ( see moor 's law ) gradual lessen domin chomskyan theori linguist ( e.g .\",\n",
       " 'transform grammar ) , whose theoret underpin discourag sort corpu linguist underli machine-learn approach languag process .',\n",
       " '[ 8 ]']"
      ]
     },
     "execution_count": 26,
     "metadata": {},
     "output_type": "execute_result"
    }
   ],
   "source": [
    "documents"
   ]
  },
  {
   "cell_type": "code",
   "execution_count": null,
   "id": "a50a15d9-2424-4e55-9880-88acbb0fdbf3",
   "metadata": {},
   "outputs": [],
   "source": []
  },
  {
   "cell_type": "code",
   "execution_count": 27,
   "id": "161463b4-de1b-4ab2-8228-708473410322",
   "metadata": {},
   "outputs": [],
   "source": [
    "from nltk.stem import SnowballStemmer"
   ]
  },
  {
   "cell_type": "code",
   "execution_count": 28,
   "id": "cdd339c3-98ce-4571-a8c0-5de70b975320",
   "metadata": {},
   "outputs": [],
   "source": [
    "snow = SnowballStemmer('english')"
   ]
  },
  {
   "cell_type": "code",
   "execution_count": 38,
   "id": "fe8f132f-1f8c-403f-b517-594e994029f5",
   "metadata": {},
   "outputs": [],
   "source": [
    "for i in range(len(documents)):\n",
    "    words = nltk.word_tokenize(documents[i])\n",
    "    words = [snow.stem(word) for word in words if word not in set(stopwords.words('english'))]\n",
    "    documents[i] = ' '.join(words)"
   ]
  },
  {
   "cell_type": "code",
   "execution_count": 39,
   "id": "4e5253a6-8931-4a18-b2ee-038ada2ad5b4",
   "metadata": {},
   "outputs": [
    {
     "data": {
      "text/plain": [
       "['up 1980s , natur languag process system base complex set hand-written rule .',\n",
       " 'start late 1980s , howev , revolut natur languag process introduct machin learn algorithm languag process .',\n",
       " \"this due steadi increas comput power ( see moor 's law ) gradual lessen domin chomskyan theori linguist ( e.g .\",\n",
       " 'transform grammar ) , whose theoret underpin discourag sort corpus linguist under machine-learn approach languag process .',\n",
       " '[ 8 ]']"
      ]
     },
     "execution_count": 39,
     "metadata": {},
     "output_type": "execute_result"
    }
   ],
   "source": [
    "documents"
   ]
  },
  {
   "cell_type": "code",
   "execution_count": null,
   "id": "2fa5ecd8-efcf-4852-84e1-988e89715b19",
   "metadata": {},
   "outputs": [],
   "source": []
  },
  {
   "cell_type": "code",
   "execution_count": 52,
   "id": "9cbb249f-9d26-4f07-b5cf-c67364343c29",
   "metadata": {},
   "outputs": [],
   "source": [
    "from nltk.stem import WordNetLemmatizer"
   ]
  },
  {
   "cell_type": "code",
   "execution_count": 53,
   "id": "37e9c2cc-35ce-454f-bfb3-095fefa8c57f",
   "metadata": {},
   "outputs": [],
   "source": [
    "lemm = WordNetLemmatizer()"
   ]
  },
  {
   "cell_type": "code",
   "execution_count": 54,
   "id": "3cafa14c-34cb-412d-ac82-2bb237b2e7f8",
   "metadata": {},
   "outputs": [],
   "source": [
    "for i in range(len(documents)):\n",
    "    words = nltk.word_tokenize(documents[i])\n",
    "    words = [lemm.lemmatize(word) for word in words if word not in set(stopwords.words('english'))]\n",
    "    documents[i] = ' '.join(words)"
   ]
  },
  {
   "cell_type": "code",
   "execution_count": 55,
   "id": "6a4b2836-50cf-449d-bd08-e78b7b2acd03",
   "metadata": {},
   "outputs": [
    {
     "data": {
      "text/plain": [
       "['Up 1980s , natural language processing system based complex set hand-written rule .',\n",
       " 'Starting late 1980s , however , revolution natural language processing introduction machine learning algorithm language processing .',\n",
       " \"This due steady increase computational power ( see Moore 's law ) gradual lessening dominance Chomskyan theory linguistics ( e.g .\",\n",
       " 'transformational grammar ) , whose theoretical underpinnings discouraged sort corpus linguistics underlies machine-learning approach language processing .',\n",
       " '[ 8 ]']"
      ]
     },
     "execution_count": 55,
     "metadata": {},
     "output_type": "execute_result"
    }
   ],
   "source": [
    "documents"
   ]
  },
  {
   "cell_type": "code",
   "execution_count": null,
   "id": "6dcaa293-9fbc-476d-9b94-da100a86597e",
   "metadata": {},
   "outputs": [],
   "source": [
    "    "
   ]
  }
 ],
 "metadata": {
  "kernelspec": {
   "display_name": "Python 3 (ipykernel)",
   "language": "python",
   "name": "python3"
  },
  "language_info": {
   "codemirror_mode": {
    "name": "ipython",
    "version": 3
   },
   "file_extension": ".py",
   "mimetype": "text/x-python",
   "name": "python",
   "nbconvert_exporter": "python",
   "pygments_lexer": "ipython3",
   "version": "3.12.3"
  }
 },
 "nbformat": 4,
 "nbformat_minor": 5
}
