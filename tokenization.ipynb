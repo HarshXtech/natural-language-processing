{
 "cells": [
  {
   "cell_type": "code",
   "execution_count": 1,
   "id": "601533d2-784d-475b-a906-21e6aed45940",
   "metadata": {},
   "outputs": [],
   "source": [
    "import nltk"
   ]
  },
  {
   "cell_type": "code",
   "execution_count": 2,
   "id": "def1ccd2-bb7e-4ca9-a61c-61b2854c8c1b",
   "metadata": {},
   "outputs": [],
   "source": [
    "corpus = \"\"\"\n",
    "Hello, Welcome to Harsh's Jupyter notebook. This is tokenization practical example! NLTK is a great library for NLP.\n",
    "\"\"\""
   ]
  },
  {
   "cell_type": "code",
   "execution_count": 4,
   "id": "55d3029e-9899-4a95-b5eb-590700b33361",
   "metadata": {},
   "outputs": [
    {
     "name": "stdout",
     "output_type": "stream",
     "text": [
      "\n",
      "Hello, Welcome to Harsh's Jupyter notebook. This is tokenization practical example! NLTK is a great library for NLP.\n",
      "\n"
     ]
    }
   ],
   "source": [
    "print(corpus)"
   ]
  },
  {
   "cell_type": "markdown",
   "id": "dbd0a05e-7c3f-441d-81dc-3798f3db9bc2",
   "metadata": {},
   "source": [
    "# corpus --> sentence"
   ]
  },
  {
   "cell_type": "code",
   "execution_count": 7,
   "id": "7f13f929-2494-4099-8109-a39db3fc32fe",
   "metadata": {},
   "outputs": [],
   "source": [
    "from nltk.tokenize import sent_tokenize"
   ]
  },
  {
   "cell_type": "code",
   "execution_count": 11,
   "id": "87756762-9e41-4f96-a5d3-33ef24e963da",
   "metadata": {},
   "outputs": [],
   "source": [
    "documents = sent_tokenize(corpus)"
   ]
  },
  {
   "cell_type": "code",
   "execution_count": 12,
   "id": "10175f8d-f7a7-46d8-8056-86ddb877a03d",
   "metadata": {},
   "outputs": [
    {
     "data": {
      "text/plain": [
       "[\"\\nHello, Welcome to Harsh's Jupyter notebook.\",\n",
       " 'This is tokenization practical example!',\n",
       " 'NLTK is a great library for NLP.']"
      ]
     },
     "execution_count": 12,
     "metadata": {},
     "output_type": "execute_result"
    }
   ],
   "source": [
    "documents"
   ]
  },
  {
   "cell_type": "code",
   "execution_count": 14,
   "id": "d265b8f6-ee3c-40f3-a6be-9567fda49dfd",
   "metadata": {},
   "outputs": [
    {
     "name": "stdout",
     "output_type": "stream",
     "text": [
      "\n",
      "Hello, Welcome to Harsh's Jupyter notebook.\n",
      "This is tokenization practical example!\n",
      "NLTK is a great library for NLP.\n"
     ]
    }
   ],
   "source": [
    "for i in documents:\n",
    "    print(i)"
   ]
  },
  {
   "cell_type": "code",
   "execution_count": null,
   "id": "807e29c6-6650-4d96-800f-86ef4dd48e0a",
   "metadata": {},
   "outputs": [],
   "source": [
    " "
   ]
  },
  {
   "cell_type": "markdown",
   "id": "414e0dbf-b44a-4f68-bc2e-049ce675311a",
   "metadata": {},
   "source": [
    "# Sentence --> words"
   ]
  },
  {
   "cell_type": "code",
   "execution_count": 15,
   "id": "039aaeaf-1359-4f97-94f4-24a02cb74158",
   "metadata": {},
   "outputs": [],
   "source": [
    "from nltk.tokenize import word_tokenize"
   ]
  },
  {
   "cell_type": "code",
   "execution_count": 23,
   "id": "5ad6203f-24ac-4ecf-bbb9-0eaac7249c93",
   "metadata": {},
   "outputs": [],
   "source": [
    "words = word_tokenize(corpus)"
   ]
  },
  {
   "cell_type": "code",
   "execution_count": 25,
   "id": "09fdd519-5e5f-4c40-b317-3aeb232dfe37",
   "metadata": {},
   "outputs": [
    {
     "data": {
      "text/plain": [
       "['Hello',\n",
       " ',',\n",
       " 'Welcome',\n",
       " 'to',\n",
       " 'Harsh',\n",
       " \"'s\",\n",
       " 'Jupyter',\n",
       " 'notebook',\n",
       " '.',\n",
       " 'This',\n",
       " 'is',\n",
       " 'tokenization',\n",
       " 'practical',\n",
       " 'example',\n",
       " '!',\n",
       " 'NLTK',\n",
       " 'is',\n",
       " 'a',\n",
       " 'great',\n",
       " 'library',\n",
       " 'for',\n",
       " 'NLP',\n",
       " '.']"
      ]
     },
     "execution_count": 25,
     "metadata": {},
     "output_type": "execute_result"
    }
   ],
   "source": [
    "words"
   ]
  },
  {
   "cell_type": "code",
   "execution_count": null,
   "id": "64e73684-e941-4a5a-918e-d3e93caef1f0",
   "metadata": {},
   "outputs": [],
   "source": []
  },
  {
   "cell_type": "markdown",
   "id": "24645f91-b61e-49e1-a6b8-e07c7452d70d",
   "metadata": {},
   "source": []
  },
  {
   "cell_type": "code",
   "execution_count": 26,
   "id": "3076c186-90bc-4554-9a0f-d157ced3f7f0",
   "metadata": {},
   "outputs": [],
   "source": [
    "from nltk.tokenize import wordpunct_tokenize"
   ]
  },
  {
   "cell_type": "code",
   "execution_count": 28,
   "id": "3db10941-31b1-4420-9e3e-092765756699",
   "metadata": {},
   "outputs": [
    {
     "data": {
      "text/plain": [
       "['Hello',\n",
       " ',',\n",
       " 'Welcome',\n",
       " 'to',\n",
       " 'Harsh',\n",
       " \"'\",\n",
       " 's',\n",
       " 'Jupyter',\n",
       " 'notebook',\n",
       " '.',\n",
       " 'This',\n",
       " 'is',\n",
       " 'tokenization',\n",
       " 'practical',\n",
       " 'example',\n",
       " '!',\n",
       " 'NLTK',\n",
       " 'is',\n",
       " 'a',\n",
       " 'great',\n",
       " 'library',\n",
       " 'for',\n",
       " 'NLP',\n",
       " '.']"
      ]
     },
     "execution_count": 28,
     "metadata": {},
     "output_type": "execute_result"
    }
   ],
   "source": [
    "# It treats all punctuations as a saperate word!\n",
    "wordpunct_tokenize(corpus)"
   ]
  },
  {
   "cell_type": "markdown",
   "id": "ef710d7d-1d86-4a98-8739-eaa046117f39",
   "metadata": {},
   "source": [
    "## Fu"
   ]
  },
  {
   "cell_type": "code",
   "execution_count": 29,
   "id": "b9090e58-cd14-4f34-b8c0-58de9655a98c",
   "metadata": {},
   "outputs": [],
   "source": [
    "from nltk.tokenize import TreebankWordTokenizer"
   ]
  },
  {
   "cell_type": "code",
   "execution_count": 31,
   "id": "a32af0fb-612b-4125-8a6b-2b51ca7e4635",
   "metadata": {},
   "outputs": [
    {
     "data": {
      "text/plain": [
       "['Hello',\n",
       " ',',\n",
       " 'Welcome',\n",
       " 'to',\n",
       " 'Harsh',\n",
       " \"'s\",\n",
       " 'Jupyter',\n",
       " 'notebook.',\n",
       " 'This',\n",
       " 'is',\n",
       " 'tokenization',\n",
       " 'practical',\n",
       " 'example',\n",
       " '!',\n",
       " 'NLTK',\n",
       " 'is',\n",
       " 'a',\n",
       " 'great',\n",
       " 'library',\n",
       " 'for',\n",
       " 'NLP',\n",
       " '.']"
      ]
     },
     "execution_count": 31,
     "metadata": {},
     "output_type": "execute_result"
    }
   ],
   "source": [
    "tree_tokenizer = TreebankWordTokenizer()\n",
    "\n",
    "tree_tokenizer.tokenize(corpus)"
   ]
  },
  {
   "cell_type": "code",
   "execution_count": null,
   "id": "6693b8c8-ffdb-4e14-9f74-d1a2af6559b1",
   "metadata": {},
   "outputs": [],
   "source": []
  }
 ],
 "metadata": {
  "kernelspec": {
   "display_name": "Python 3 (ipykernel)",
   "language": "python",
   "name": "python3"
  },
  "language_info": {
   "codemirror_mode": {
    "name": "ipython",
    "version": 3
   },
   "file_extension": ".py",
   "mimetype": "text/x-python",
   "name": "python",
   "nbconvert_exporter": "python",
   "pygments_lexer": "ipython3",
   "version": "3.12.3"
  }
 },
 "nbformat": 4,
 "nbformat_minor": 5
}
