{
 "cells": [
  {
   "cell_type": "code",
   "execution_count": 1,
   "id": "6a6445d4-20ee-4006-9b3c-b5799cf1fc78",
   "metadata": {},
   "outputs": [],
   "source": [
    "corpus = \"\"\"\n",
    "Up until the 1980s, most natural language processing systems were based on complex sets of hand-written rules. \n",
    "Starting in the late 1980s, however, there was a revolution in natural language processing with the introduction of \n",
    "machine learning algorithms for language processing. This was due to both the steady increase in computational power\n",
    "(see Moore's law) and the gradual lessening of the dominance of Chomskyan theories of linguistics (e.g. transformational grammar),\n",
    "whose theoretical underpinnings discouraged the sort of corpus linguistics that underlies the machine-learning approach to language processing.[8]\n",
    "\"\"\""
   ]
  },
  {
   "cell_type": "code",
   "execution_count": 5,
   "id": "5538c05c-46f7-4d17-b5bc-833784ebdc57",
   "metadata": {},
   "outputs": [],
   "source": [
    "import nltk\n",
    "from nltk.corpus import stopwords"
   ]
  },
  {
   "cell_type": "code",
   "execution_count": 3,
   "id": "fbda408c-8355-4800-b73e-837496747609",
   "metadata": {},
   "outputs": [
    {
     "data": {
      "text/plain": [
       "['\\nUp until the 1980s, most natural language processing systems were based on complex sets of hand-written rules.',\n",
       " 'Starting in the late 1980s, however, there was a revolution in natural language processing with the introduction of \\nmachine learning algorithms for language processing.',\n",
       " \"This was due to both the steady increase in computational power\\n(see Moore's law) and the gradual lessening of the dominance of Chomskyan theories of linguistics (e.g.\",\n",
       " 'transformational grammar),\\nwhose theoretical underpinnings discouraged the sort of corpus linguistics that underlies the machine-learning approach to language processing.',\n",
       " '[8]']"
      ]
     },
     "execution_count": 3,
     "metadata": {},
     "output_type": "execute_result"
    }
   ],
   "source": [
    "documents = nltk.sent_tokenize(corpus)\n",
    "documents"
   ]
  },
  {
   "cell_type": "code",
   "execution_count": 12,
   "id": "55147e50-d857-4f3c-a001-85921d79ee50",
   "metadata": {},
   "outputs": [
    {
     "name": "stderr",
     "output_type": "stream",
     "text": [
      "[nltk_data] Downloading package averaged_perceptron_tagger_eng to\n",
      "[nltk_data]     C:\\Users\\Harsh\\AppData\\Roaming\\nltk_data...\n",
      "[nltk_data]   Unzipping taggers\\averaged_perceptron_tagger_eng.zip.\n"
     ]
    },
    {
     "data": {
      "text/plain": [
       "True"
      ]
     },
     "execution_count": 12,
     "metadata": {},
     "output_type": "execute_result"
    }
   ],
   "source": [
    "nltk.download('averaged_perceptron_tagger_eng')"
   ]
  },
  {
   "cell_type": "code",
   "execution_count": 13,
   "id": "3081041d-3604-4dac-9c74-6284cd794f3d",
   "metadata": {},
   "outputs": [
    {
     "name": "stdout",
     "output_type": "stream",
     "text": [
      "[('Up', 'RB'), ('1980s', 'CD'), (',', ','), ('natural', 'JJ'), ('language', 'NN'), ('processing', 'VBG'), ('systems', 'NNS'), ('based', 'VBN'), ('complex', 'JJ'), ('sets', 'NNS'), ('hand-written', 'JJ'), ('rules', 'NNS'), ('.', '.')]\n",
      "[('Starting', 'VBG'), ('late', 'JJ'), ('1980s', 'CD'), (',', ','), ('however', 'RB'), (',', ','), ('revolution', 'NN'), ('natural', 'JJ'), ('language', 'NN'), ('processing', 'NN'), ('introduction', 'NN'), ('machine', 'NN'), ('learning', 'VBG'), ('algorithms', 'JJ'), ('language', 'NN'), ('processing', 'NN'), ('.', '.')]\n",
      "[('This', 'DT'), ('due', 'JJ'), ('steady', 'JJ'), ('increase', 'NN'), ('computational', 'JJ'), ('power', 'NN'), ('(', '('), ('see', 'VB'), ('Moore', 'NNP'), (\"'s\", 'POS'), ('law', 'NN'), (')', ')'), ('gradual', 'JJ'), ('lessening', 'VBG'), ('dominance', 'NN'), ('Chomskyan', 'NNP'), ('theories', 'NNS'), ('linguistics', 'NNS'), ('(', '('), ('e.g', 'NN'), ('.', '.')]\n",
      "[('transformational', 'JJ'), ('grammar', 'NN'), (')', ')'), (',', ','), ('whose', 'WP$'), ('theoretical', 'JJ'), ('underpinnings', 'NNS'), ('discouraged', 'VBD'), ('sort', 'NN'), ('corpus', 'NN'), ('linguistics', 'NNS'), ('underlies', 'JJ'), ('machine-learning', 'JJ'), ('approach', 'NN'), ('language', 'NN'), ('processing', 'NN'), ('.', '.')]\n",
      "[('[', 'RB'), ('8', 'CD'), (']', 'NNS')]\n"
     ]
    }
   ],
   "source": [
    "# Find out the POS tags\n",
    "\n",
    "for i in range(len(documents)):\n",
    "    words = nltk.word_tokenize(documents[i])\n",
    "    words = [word for word in words if word not in set(stopwords.words('english'))]\n",
    "    pos_words = nltk.pos_tag(words)\n",
    "    print(pos_words)"
   ]
  },
  {
   "cell_type": "code",
   "execution_count": 10,
   "id": "195b1f00-f8e2-448f-a0a5-81f81477247f",
   "metadata": {},
   "outputs": [
    {
     "data": {
      "text/plain": [
       "['Up 1980s , natural language processing systems based complex sets hand-written rules .',\n",
       " 'Starting late 1980s , however , revolution natural language processing introduction machine learning algorithms language processing .',\n",
       " \"This due steady increase computational power ( see Moore 's law ) gradual lessening dominance Chomskyan theories linguistics ( e.g .\",\n",
       " 'transformational grammar ) , whose theoretical underpinnings discouraged sort corpus linguistics underlies machine-learning approach language processing .',\n",
       " '[ 8 ]']"
      ]
     },
     "execution_count": 10,
     "metadata": {},
     "output_type": "execute_result"
    }
   ],
   "source": [
    "documents"
   ]
  },
  {
   "cell_type": "code",
   "execution_count": 17,
   "id": "55a8f0be-bca7-45bd-b770-c4dd41befb23",
   "metadata": {},
   "outputs": [],
   "source": [
    "words = []\n",
    "for i in 'Taj Mahal is a beautiful monument'.split(' '):\n",
    "    words.append(i)\n",
    "    (nltk.pos_tag(words))"
   ]
  },
  {
   "cell_type": "code",
   "execution_count": null,
   "id": "a29d1de4-0ba4-4ed6-a2cf-d69b9019d48b",
   "metadata": {},
   "outputs": [],
   "source": []
  }
 ],
 "metadata": {
  "kernelspec": {
   "display_name": "Python 3 (ipykernel)",
   "language": "python",
   "name": "python3"
  },
  "language_info": {
   "codemirror_mode": {
    "name": "ipython",
    "version": 3
   },
   "file_extension": ".py",
   "mimetype": "text/x-python",
   "name": "python",
   "nbconvert_exporter": "python",
   "pygments_lexer": "ipython3",
   "version": "3.12.3"
  }
 },
 "nbformat": 4,
 "nbformat_minor": 5
}
