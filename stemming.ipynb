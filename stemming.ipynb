{
 "cells": [
  {
   "cell_type": "markdown",
   "id": "31f12a93-b6c6-415e-acf5-b57491d17e3d",
   "metadata": {},
   "source": [
    "## Stemming : A process of reducing a word to its word stem. (root form of the word)"
   ]
  },
  {
   "cell_type": "markdown",
   "id": "09e1aa44-acfa-42fa-a9c2-7f613b55731a",
   "metadata": {},
   "source": [
    "## Eating, Eat, Eeten ----> Eat\n",
    "## going, gone, goes ----> Go"
   ]
  },
  {
   "cell_type": "code",
   "execution_count": 1,
   "id": "9afceae3-167b-43ab-ab4c-8ef7d522476e",
   "metadata": {},
   "outputs": [],
   "source": [
    "words = ['writings', 'writes', 'programming', 'programmed', 'final', 'finalized', 'history', 'cook', 'cooked', 'cooking', 'programs']"
   ]
  },
  {
   "cell_type": "code",
   "execution_count": null,
   "id": "5e7b61b6-5af0-41a9-bd09-74f7e544a690",
   "metadata": {},
   "outputs": [],
   "source": []
  },
  {
   "cell_type": "markdown",
   "id": "b32ee545-cfd1-4613-bd6e-9a5b045f33de",
   "metadata": {},
   "source": [
    "## Word Stem using PorterStemmer"
   ]
  },
  {
   "cell_type": "code",
   "execution_count": 3,
   "id": "15144140-6414-44bd-a2c7-f61dc2ca8373",
   "metadata": {},
   "outputs": [],
   "source": [
    "from nltk.stem import PorterStemmer"
   ]
  },
  {
   "cell_type": "code",
   "execution_count": 4,
   "id": "737db9fd-a245-4626-809d-470cf720aae9",
   "metadata": {},
   "outputs": [],
   "source": [
    "stemmer = PorterStemmer()"
   ]
  },
  {
   "cell_type": "code",
   "execution_count": 10,
   "id": "2e911c08-f5b7-423d-a991-88f532ab92db",
   "metadata": {},
   "outputs": [
    {
     "name": "stdout",
     "output_type": "stream",
     "text": [
      "writings ----> write\n",
      "writes ----> write\n",
      "programming ----> program\n",
      "programmed ----> program\n",
      "final ----> final\n",
      "finalized ----> final\n",
      "history ----> histori\n",
      "cook ----> cook\n",
      "cooked ----> cook\n",
      "cooking ----> cook\n",
      "programs ----> program\n"
     ]
    }
   ],
   "source": [
    "for word in words:\n",
    "    print(word + ' ----> ' + stemmer.stem(word))"
   ]
  },
  {
   "cell_type": "code",
   "execution_count": 12,
   "id": "0d8f7b35-d16b-459f-8486-ae045e76499f",
   "metadata": {},
   "outputs": [
    {
     "data": {
      "text/plain": [
       "'congratul'"
      ]
     },
     "execution_count": 12,
     "metadata": {},
     "output_type": "execute_result"
    }
   ],
   "source": [
    "stemmer.stem('congratulations')"
   ]
  },
  {
   "cell_type": "code",
   "execution_count": 13,
   "id": "20b2091e-f42c-41f8-b5ef-32c2bbea26d7",
   "metadata": {},
   "outputs": [
    {
     "data": {
      "text/plain": [
       "'sit'"
      ]
     },
     "execution_count": 13,
     "metadata": {},
     "output_type": "execute_result"
    }
   ],
   "source": [
    "stemmer.stem('sitting')"
   ]
  },
  {
   "cell_type": "code",
   "execution_count": null,
   "id": "f1d9de9f-2c41-436f-8c09-de9c4aaa8aaf",
   "metadata": {},
   "outputs": [],
   "source": []
  },
  {
   "cell_type": "markdown",
   "id": "58758b61-f9e2-428a-a257-0752b8603334",
   "metadata": {},
   "source": [
    "# Word Stem using RegexpStemmer"
   ]
  },
  {
   "cell_type": "code",
   "execution_count": 14,
   "id": "b5c67d22-a9e4-4480-91aa-590d1a32ee90",
   "metadata": {},
   "outputs": [],
   "source": [
    "from nltk.stem import RegexpStemmer"
   ]
  },
  {
   "cell_type": "code",
   "execution_count": 24,
   "id": "2892efea-380e-48ba-90ec-37170ab06539",
   "metadata": {},
   "outputs": [],
   "source": [
    "reg_stemmer = RegexpStemmer('ing$|s$|e$|able$|ed$', min=4)"
   ]
  },
  {
   "cell_type": "code",
   "execution_count": 25,
   "id": "cd9324e2-b2be-4da7-a5d2-f695cc4bd93a",
   "metadata": {},
   "outputs": [
    {
     "name": "stdout",
     "output_type": "stream",
     "text": [
      "writings ---> writing\n",
      "writes ---> write\n",
      "programming ---> programm\n",
      "programmed ---> programm\n",
      "final ---> final\n",
      "finalized ---> finaliz\n",
      "history ---> history\n",
      "cook ---> cook\n",
      "cooked ---> cook\n",
      "cooking ---> cook\n",
      "programs ---> program\n"
     ]
    }
   ],
   "source": [
    "for word in words:\n",
    "    print(word + ' ---> ' + reg_stemmer.stem(word))"
   ]
  },
  {
   "cell_type": "code",
   "execution_count": null,
   "id": "1f96de9c-57cf-476f-b0fc-a63ed8d11bf3",
   "metadata": {},
   "outputs": [],
   "source": []
  },
  {
   "cell_type": "markdown",
   "id": "a9b0ff93-e1e3-480f-a056-72f77d46a1a5",
   "metadata": {},
   "source": [
    "# Snowball Stemmer"
   ]
  },
  {
   "cell_type": "code",
   "execution_count": 27,
   "id": "a7d49978-ddc7-4117-baaf-7c865308d82d",
   "metadata": {},
   "outputs": [],
   "source": [
    "from nltk.stem import SnowballStemmer"
   ]
  },
  {
   "cell_type": "code",
   "execution_count": 35,
   "id": "168fcb25-0e7d-4304-a50b-6998c25f524b",
   "metadata": {},
   "outputs": [],
   "source": [
    "snow = SnowballStemmer('english')"
   ]
  },
  {
   "cell_type": "code",
   "execution_count": 36,
   "id": "fbb6a35b-3bfc-4a91-879f-06f907948006",
   "metadata": {},
   "outputs": [
    {
     "name": "stdout",
     "output_type": "stream",
     "text": [
      "writings ----> write\n",
      "writes ----> write\n",
      "programming ----> program\n",
      "programmed ----> program\n",
      "final ----> final\n",
      "finalized ----> final\n",
      "history ----> histori\n",
      "cook ----> cook\n",
      "cooked ----> cook\n",
      "cooking ----> cook\n",
      "programs ----> program\n"
     ]
    }
   ],
   "source": [
    "for word in words:\n",
    "    print(word + ' ----> ' + snow.stem(word))"
   ]
  },
  {
   "cell_type": "code",
   "execution_count": null,
   "id": "c2d236d6-5391-4ec5-80ef-a60b519b3cb8",
   "metadata": {},
   "outputs": [],
   "source": []
  },
  {
   "cell_type": "markdown",
   "id": "541adde4-3a25-4a05-b81e-bd43af894f31",
   "metadata": {},
   "source": [
    "## In-geeral difference between them"
   ]
  },
  {
   "cell_type": "code",
   "execution_count": 40,
   "id": "8866e12f-3c1e-4cad-8ee5-fa612ffa7a0d",
   "metadata": {},
   "outputs": [
    {
     "name": "stdout",
     "output_type": "stream",
     "text": [
      "Porter Stemmer\n",
      "fairli\n",
      "sportingli\n",
      "-------------------\n",
      "RegExp Stemmer\n",
      "fairly\n",
      "sportingly\n",
      "-------------------\n",
      "Snow Stemmer\n",
      "fair\n",
      "sport\n"
     ]
    }
   ],
   "source": [
    "print('Porter Stemmer')\n",
    "print(stemmer.stem('fairly'))\n",
    "print(stemmer.stem('sportingly'))\n",
    "\n",
    "print('-------------------')\n",
    "print('RegExp Stemmer')\n",
    "print(reg_stemmer.stem('fairly'))\n",
    "print(reg_stemmer.stem('sportingly'))\n",
    "\n",
    "print('-------------------')\n",
    "\n",
    "print('Snow Stemmer')\n",
    "print(snow.stem('fairly'))\n",
    "print(snow.stem('sportingly'))"
   ]
  },
  {
   "cell_type": "code",
   "execution_count": 38,
   "id": "5ef4aa75-4463-4725-a182-ccc8f0ac5e3c",
   "metadata": {},
   "outputs": [
    {
     "data": {
      "text/plain": [
       "'sportingli'"
      ]
     },
     "execution_count": 38,
     "metadata": {},
     "output_type": "execute_result"
    }
   ],
   "source": []
  },
  {
   "cell_type": "code",
   "execution_count": 39,
   "id": "b1805c7d-290c-4a71-b597-fd46b320086f",
   "metadata": {},
   "outputs": [
    {
     "data": {
      "text/plain": [
       "'fair'"
      ]
     },
     "execution_count": 39,
     "metadata": {},
     "output_type": "execute_result"
    }
   ],
   "source": []
  },
  {
   "cell_type": "code",
   "execution_count": null,
   "id": "766e97a1-37c7-44a6-81e7-729ba6e58f82",
   "metadata": {},
   "outputs": [],
   "source": []
  }
 ],
 "metadata": {
  "kernelspec": {
   "display_name": "Python 3 (ipykernel)",
   "language": "python",
   "name": "python3"
  },
  "language_info": {
   "codemirror_mode": {
    "name": "ipython",
    "version": 3
   },
   "file_extension": ".py",
   "mimetype": "text/x-python",
   "name": "python",
   "nbconvert_exporter": "python",
   "pygments_lexer": "ipython3",
   "version": "3.12.3"
  }
 },
 "nbformat": 4,
 "nbformat_minor": 5
}
