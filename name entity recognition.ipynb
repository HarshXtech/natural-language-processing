{
 "cells": [
  {
   "cell_type": "code",
   "execution_count": null,
   "id": "1228a9d4-07db-4073-bd48-b8d1770eddf4",
   "metadata": {},
   "outputs": [],
   "source": []
  }
 ],
 "metadata": {
  "kernelspec": {
   "display_name": "",
   "name": ""
  },
  "language_info": {
   "name": ""
  }
 },
 "nbformat": 4,
 "nbformat_minor": 5
}
