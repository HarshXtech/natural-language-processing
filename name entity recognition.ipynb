{
 "cells": [
  {
   "cell_type": "code",
   "execution_count": 1,
   "id": "1228a9d4-07db-4073-bd48-b8d1770eddf4",
   "metadata": {},
   "outputs": [],
   "source": [
    "sentance = \"\"\"My name Harsh Gadhiya learning natural language processing with python to build some amazing AI and LLM models. It will include multiple\n",
    "things like - intent, fulfillment, and personality - of an agent\"\"\""
   ]
  },
  {
   "cell_type": "code",
   "execution_count": 2,
   "id": "1459f62e-2f56-4f56-ac3d-47e3a432868a",
   "metadata": {},
   "outputs": [],
   "source": [
    "import nltk"
   ]
  },
  {
   "cell_type": "code",
   "execution_count": 4,
   "id": "778444bc-003e-448a-911c-39a7ab593d71",
   "metadata": {},
   "outputs": [],
   "source": [
    "words = nltk.word_tokenize(sentance)"
   ]
  },
  {
   "cell_type": "code",
   "execution_count": 6,
   "id": "58ffe4af-db6e-4908-85ad-4c8f6fff261f",
   "metadata": {},
   "outputs": [],
   "source": [
    "word_elements = nltk.pos_tag(words)"
   ]
  },
  {
   "cell_type": "code",
   "execution_count": 14,
   "id": "a5f2e45b-0732-46e5-942b-d27a35c82c14",
   "metadata": {},
   "outputs": [
    {
     "name": "stderr",
     "output_type": "stream",
     "text": [
      "[nltk_data] Downloading package words to\n",
      "[nltk_data]     C:\\Users\\Harsh\\AppData\\Roaming\\nltk_data...\n",
      "[nltk_data]   Package words is already up-to-date!\n"
     ]
    },
    {
     "data": {
      "text/plain": [
       "True"
      ]
     },
     "execution_count": 14,
     "metadata": {},
     "output_type": "execute_result"
    }
   ],
   "source": [
    "nltk.download('words')"
   ]
  },
  {
   "cell_type": "code",
   "execution_count": null,
   "id": "32d06007-2502-45e8-9d5c-90fc07430e1a",
   "metadata": {},
   "outputs": [],
   "source": [
    "nltk.ne_chunk(word_elements).draw()"
   ]
  },
  {
   "cell_type": "code",
   "execution_count": 16,
   "id": "ddf0d936-b876-4de2-9595-ab353276d616",
   "metadata": {},
   "outputs": [
    {
     "name": "stdout",
     "output_type": "stream",
     "text": [
      "Note: you may need to restart the kernel to use updated packages.\n",
      "Collecting svgling\n",
      "  Using cached svgling-0.5.0-py3-none-any.whl.metadata (7.4 kB)\n",
      "Collecting svgwrite (from svgling)\n",
      "  Using cached svgwrite-1.4.3-py3-none-any.whl.metadata (8.8 kB)\n",
      "Using cached svgling-0.5.0-py3-none-any.whl (31 kB)\n",
      "Using cached svgwrite-1.4.3-py3-none-any.whl (67 kB)\n",
      "Installing collected packages: svgwrite, svgling\n",
      "Successfully installed svgling-0.5.0 svgwrite-1.4.3\n"
     ]
    },
    {
     "name": "stderr",
     "output_type": "stream",
     "text": [
      "\n",
      "[notice] A new release of pip is available: 24.0 -> 25.1.1\n",
      "[notice] To update, run: python.exe -m pip install --upgrade pip\n"
     ]
    }
   ],
   "source": [
    "pip install svgling"
   ]
  },
  {
   "cell_type": "code",
   "execution_count": null,
   "id": "9279e06b-135d-439e-9815-d914e115564c",
   "metadata": {},
   "outputs": [],
   "source": []
  }
 ],
 "metadata": {
  "kernelspec": {
   "display_name": "Python 3 (ipykernel)",
   "language": "python",
   "name": "python3"
  },
  "language_info": {
   "codemirror_mode": {
    "name": "ipython",
    "version": 3
   },
   "file_extension": ".py",
   "mimetype": "text/x-python",
   "name": "python",
   "nbconvert_exporter": "python",
   "pygments_lexer": "ipython3",
   "version": "3.12.3"
  }
 },
 "nbformat": 4,
 "nbformat_minor": 5
}
