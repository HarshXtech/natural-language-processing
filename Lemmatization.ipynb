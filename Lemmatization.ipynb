{
 "cells": [
  {
   "cell_type": "markdown",
   "id": "16041a3f-13a4-4f6b-b7e7-246d2e00281e",
   "metadata": {},
   "source": [
    "## Lemmatization : The output is known as \"Lemma\" and will return root word rather than root stem"
   ]
  },
  {
   "cell_type": "code",
   "execution_count": 1,
   "id": "aae31ab3-76c7-45f6-91ad-07c0aab43787",
   "metadata": {},
   "outputs": [],
   "source": [
    "from nltk.stem import WordNetLemmatizer"
   ]
  },
  {
   "cell_type": "code",
   "execution_count": 2,
   "id": "e2f424bd-6a4b-4307-b8ce-1b2e74010221",
   "metadata": {},
   "outputs": [],
   "source": [
    "lemmetizer = WordNetLemmatizer()"
   ]
  },
  {
   "cell_type": "code",
   "execution_count": 11,
   "id": "b94b260a-0ed8-4cf9-abc8-5bf1ca5668eb",
   "metadata": {},
   "outputs": [
    {
     "data": {
      "text/plain": [
       "'\\nnoun: n\\nverb: v\\nadjective: a\\nadverb: r\\n'"
      ]
     },
     "execution_count": 11,
     "metadata": {},
     "output_type": "execute_result"
    }
   ],
   "source": [
    "\"\"\"\n",
    "noun: n\n",
    "verb: v\n",
    "adjective: a\n",
    "adverb: r\n",
    "\"\"\""
   ]
  },
  {
   "cell_type": "code",
   "execution_count": 12,
   "id": "6bc11bcd-73a3-4492-a007-9fa3ecba5640",
   "metadata": {},
   "outputs": [
    {
     "data": {
      "text/plain": [
       "'go'"
      ]
     },
     "execution_count": 12,
     "metadata": {},
     "output_type": "execute_result"
    }
   ],
   "source": [
    "lemmetizer.lemmatize('going', pos='v')"
   ]
  },
  {
   "cell_type": "code",
   "execution_count": 13,
   "id": "b4a85215-73ec-4f22-a49c-799d8c181e9a",
   "metadata": {},
   "outputs": [],
   "source": [
    "words = ['writings', 'writes', 'programming', 'programmed', 'final', 'finalized', 'history', 'cook', 'cooked', 'cooking', 'programs']"
   ]
  },
  {
   "cell_type": "code",
   "execution_count": 15,
   "id": "16609236-eb7e-46e3-bdaf-cd781a7bd510",
   "metadata": {},
   "outputs": [
    {
     "name": "stdout",
     "output_type": "stream",
     "text": [
      "writings ---> writings\n",
      "writes ---> write\n",
      "programming ---> program\n",
      "programmed ---> program\n",
      "final ---> final\n",
      "finalized ---> finalize\n",
      "history ---> history\n",
      "cook ---> cook\n",
      "cooked ---> cook\n",
      "cooking ---> cook\n",
      "programs ---> program\n"
     ]
    }
   ],
   "source": [
    "for word in words:\n",
    "    print(word + ' ---> ' + lemmetizer.lemmatize(word, pos='v'))"
   ]
  },
  {
   "cell_type": "code",
   "execution_count": 22,
   "id": "f3710047-3f88-4b3b-a411-245c3e651944",
   "metadata": {},
   "outputs": [
    {
     "data": {
      "text/plain": [
       "'sportily'"
      ]
     },
     "execution_count": 22,
     "metadata": {},
     "output_type": "execute_result"
    }
   ],
   "source": [
    "lemmetizer.lemmatize('sportily', pos='a')"
   ]
  },
  {
   "cell_type": "code",
   "execution_count": null,
   "id": "1a694dde-9c98-4ded-93ff-740154154ab2",
   "metadata": {},
   "outputs": [],
   "source": []
  }
 ],
 "metadata": {
  "kernelspec": {
   "display_name": "Python 3 (ipykernel)",
   "language": "python",
   "name": "python3"
  },
  "language_info": {
   "codemirror_mode": {
    "name": "ipython",
    "version": 3
   },
   "file_extension": ".py",
   "mimetype": "text/x-python",
   "name": "python",
   "nbconvert_exporter": "python",
   "pygments_lexer": "ipython3",
   "version": "3.12.3"
  }
 },
 "nbformat": 4,
 "nbformat_minor": 5
}
